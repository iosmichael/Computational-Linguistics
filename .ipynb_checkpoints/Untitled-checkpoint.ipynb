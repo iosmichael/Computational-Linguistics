{
 "cells": [
  {
   "cell_type": "code",
   "execution_count": null,
   "metadata": {
    "collapsed": true
   },
   "outputs": [],
   "source": [
    "from __future__ import division\n",
    "import nltk, re, pprint\n",
    "from nltk import word_tokenize\n",
    "from nltk import FreqDist\n",
    "\n",
    "%matplotlib inline\n",
    "from urllib import request\n",
    "url = \"http://www.gutenberg.org/cache/epub/2264/pg2264.txt\"\n",
    "response = request.urlopen(url)\n",
    "raw = response.read().decode(\"utf8\")\n",
    "tokens = word_tokenize(raw)\n",
    "tokens = tokens[3500:]\n",
    "text = nltk.Text(tokens)\n",
    "print(text[1024:1062],\"\\n\")\n",
    "text.collocations()"
   ]
  }
 ],
 "metadata": {
  "kernelspec": {
   "display_name": "Python 3",
   "language": "python",
   "name": "python3"
  },
  "language_info": {
   "codemirror_mode": {
    "name": "ipython",
    "version": 3
   },
   "file_extension": ".py",
   "mimetype": "text/x-python",
   "name": "python",
   "nbconvert_exporter": "python",
   "pygments_lexer": "ipython3",
   "version": "3.6.1"
  }
 },
 "nbformat": 4,
 "nbformat_minor": 2
}
